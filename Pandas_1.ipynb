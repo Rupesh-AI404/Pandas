{
 "cells": [
  {
   "cell_type": "code",
   "execution_count": 2,
   "id": "be5c007f-7e81-4edb-b72a-f580366bf46d",
   "metadata": {},
   "outputs": [
    {
     "name": "stdout",
     "output_type": "stream",
     "text": [
      "Hello World!\n"
     ]
    }
   ],
   "source": [
    "print(\"Hello World!\")"
   ]
  },
  {
   "cell_type": "code",
   "execution_count": 3,
   "id": "cc6f619b-46a0-4e14-858a-6c7af7393db9",
   "metadata": {},
   "outputs": [],
   "source": [
    "import pandas as pd"
   ]
  },
  {
   "cell_type": "code",
   "execution_count": 4,
   "id": "26d01408-87e7-4126-9974-e4d58a2bcc70",
   "metadata": {},
   "outputs": [
    {
     "data": {
      "text/html": [
       "<div>\n",
       "<style scoped>\n",
       "    .dataframe tbody tr th:only-of-type {\n",
       "        vertical-align: middle;\n",
       "    }\n",
       "\n",
       "    .dataframe tbody tr th {\n",
       "        vertical-align: top;\n",
       "    }\n",
       "\n",
       "    .dataframe thead th {\n",
       "        text-align: right;\n",
       "    }\n",
       "</style>\n",
       "<table border=\"1\" class=\"dataframe\">\n",
       "  <thead>\n",
       "    <tr style=\"text-align: right;\">\n",
       "      <th></th>\n",
       "      <th>Yes</th>\n",
       "      <th>No</th>\n",
       "    </tr>\n",
       "  </thead>\n",
       "  <tbody>\n",
       "    <tr>\n",
       "      <th>0</th>\n",
       "      <td>50</td>\n",
       "      <td>131</td>\n",
       "    </tr>\n",
       "    <tr>\n",
       "      <th>1</th>\n",
       "      <td>21</td>\n",
       "      <td>2</td>\n",
       "    </tr>\n",
       "  </tbody>\n",
       "</table>\n",
       "</div>"
      ],
      "text/plain": [
       "   Yes   No\n",
       "0   50  131\n",
       "1   21    2"
      ]
     },
     "execution_count": 4,
     "metadata": {},
     "output_type": "execute_result"
    }
   ],
   "source": [
    "pd.DataFrame({'Yes':[50, 21], 'No':[131, 2]})"
   ]
  },
  {
   "cell_type": "code",
   "execution_count": 5,
   "id": "91c665c3-c9e3-44ec-bd97-42fd66f41c36",
   "metadata": {},
   "outputs": [
    {
     "data": {
      "text/html": [
       "<div>\n",
       "<style scoped>\n",
       "    .dataframe tbody tr th:only-of-type {\n",
       "        vertical-align: middle;\n",
       "    }\n",
       "\n",
       "    .dataframe tbody tr th {\n",
       "        vertical-align: top;\n",
       "    }\n",
       "\n",
       "    .dataframe thead th {\n",
       "        text-align: right;\n",
       "    }\n",
       "</style>\n",
       "<table border=\"1\" class=\"dataframe\">\n",
       "  <thead>\n",
       "    <tr style=\"text-align: right;\">\n",
       "      <th></th>\n",
       "      <th>Bob</th>\n",
       "      <th>Sue</th>\n",
       "    </tr>\n",
       "  </thead>\n",
       "  <tbody>\n",
       "    <tr>\n",
       "      <th>1</th>\n",
       "      <td>Hello</td>\n",
       "      <td>Hello</td>\n",
       "    </tr>\n",
       "    <tr>\n",
       "      <th>2</th>\n",
       "      <td>World</td>\n",
       "      <td>Man</td>\n",
       "    </tr>\n",
       "  </tbody>\n",
       "</table>\n",
       "</div>"
      ],
      "text/plain": [
       "     Bob    Sue\n",
       "1  Hello  Hello\n",
       "2  World    Man"
      ]
     },
     "execution_count": 5,
     "metadata": {},
     "output_type": "execute_result"
    }
   ],
   "source": [
    " pd.DataFrame({'Bob':['Hello', 'World'], 'Sue': ['Hello', 'Man']}, index=['1', '2'])"
   ]
  },
  {
   "cell_type": "code",
   "execution_count": 6,
   "id": "bf047301-7519-4e0f-ad2b-4e368cd3de0b",
   "metadata": {},
   "outputs": [
    {
     "data": {
      "text/plain": [
       "0    1\n",
       "1    2\n",
       "2    3\n",
       "3    4\n",
       "4    5\n",
       "5    6\n",
       "6    7\n",
       "7    8\n",
       "dtype: int64"
      ]
     },
     "execution_count": 6,
     "metadata": {},
     "output_type": "execute_result"
    }
   ],
   "source": [
    "pd.Series([1,2,3,4,5,6,7,8])"
   ]
  },
  {
   "cell_type": "code",
   "execution_count": 7,
   "id": "cbf887f1-12c0-44d5-87d6-d09fbf78b2eb",
   "metadata": {},
   "outputs": [
    {
     "data": {
      "text/plain": [
       "Math       12\n",
       "Science    34\n",
       "Health     45\n",
       "Name: Subjects, dtype: int64"
      ]
     },
     "execution_count": 7,
     "metadata": {},
     "output_type": "execute_result"
    }
   ],
   "source": [
    "pd.Series([12, 34, 45], index = ['Math', 'Science', 'Health'], name = 'Subjects')"
   ]
  },
  {
   "cell_type": "code",
   "execution_count": null,
   "id": "cd7ad479-e4c1-4f20-b06b-79ac03c11f6e",
   "metadata": {},
   "outputs": [],
   "source": [
    "# question from leetcode\n",
    "To determine whether a country is considered `big`, there are two conditions to verify, as stated in the description:\n",
    "The country must have an area of at least three million square kilometers, denoted as area >= 3,000,000.\n",
    "\n",
    "The population of the country should be a minimum of twenty-five million, expressed as population >= 25,000,000."
   ]
  },
  {
   "cell_type": "code",
   "execution_count": 2,
   "id": "b4fab3fe-828e-4c43-b52d-a1cef49f955b",
   "metadata": {},
   "outputs": [],
   "source": [
    "import pandas as pd\n",
    "\n",
    "def big_countries(world: pd.DataFrame) -> pd.DataFrame:\n",
    "    df = world[(world['area'] >= 3000000) | (world['population'] >= 25000000)]\n",
    "    return df[['name', 'population', 'area']]"
   ]
  },
  {
   "cell_type": "code",
   "execution_count": null,
   "id": "586173c8-19cc-4648-9aa5-59710f31a322",
   "metadata": {},
   "outputs": [],
   "source": []
  },
  {
   "cell_type": "code",
   "execution_count": null,
   "id": "40ebbe5a-101e-45c5-8508-0db09f381c21",
   "metadata": {},
   "outputs": [],
   "source": []
  }
 ],
 "metadata": {
  "kernelspec": {
   "display_name": "Python 3 (ipykernel)",
   "language": "python",
   "name": "python3"
  },
  "language_info": {
   "codemirror_mode": {
    "name": "ipython",
    "version": 3
   },
   "file_extension": ".py",
   "mimetype": "text/x-python",
   "name": "python",
   "nbconvert_exporter": "python",
   "pygments_lexer": "ipython3",
   "version": "3.13.5"
  }
 },
 "nbformat": 4,
 "nbformat_minor": 5
}
