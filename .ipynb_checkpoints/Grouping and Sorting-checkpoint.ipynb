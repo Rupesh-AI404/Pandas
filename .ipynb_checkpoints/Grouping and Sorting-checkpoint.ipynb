{
 "cells": [
  {
   "cell_type": "markdown",
   "id": "5631beca-dbc3-4749-ac53-ceba282869d0",
   "metadata": {},
   "source": [
    "#Importing data Grouping and Sorting\n",
    "\n"
   ]
  },
  {
   "cell_type": "code",
   "execution_count": 2,
   "id": "f4c76d1f-101b-44d6-8ba2-db06f1c18727",
   "metadata": {},
   "outputs": [
    {
     "name": "stdout",
     "output_type": "stream",
     "text": [
      "Setup complete!\n",
      "Dataset loaded with 129971 rows and 13 columns\n",
      "\n",
      "Available columns: ['country', 'description', 'designation', 'points', 'price', 'province', 'region_1', 'region_2', 'taster_name', 'taster_twitter_handle', 'title', 'variety', 'winery']\n"
     ]
    }
   ],
   "source": [
    "import pandas as pd\n",
    "\n",
    "# Load your data\n",
    "reviews = pd.read_csv(\"winemag-data-130k-v2.csv\", index_col=0)\n",
    "\n",
    "print(\"Setup complete!\")\n",
    "print(f\"Dataset loaded with {len(reviews)} rows and {len(reviews.columns)} columns\")\n",
    "print(\"\\nAvailable columns:\", reviews.columns.tolist())\n",
    "reviews = pd.DataFrame(reviews)"
   ]
  },
  {
   "cell_type": "code",
   "execution_count": 13,
   "id": "5be12a37-a101-4e5d-93ef-e9a0fa4d079b",
   "metadata": {},
   "outputs": [
    {
     "name": "stdout",
     "output_type": "stream",
     "text": [
      "taster_twitter_handle\n",
      "@AnneInVino          3685\n",
      "@JoeCz               5147\n",
      "@bkfiona               27\n",
      "@gordone_cellars     4177\n",
      "@kerinokeefe        10776\n",
      "@laurbuzz            1835\n",
      "@mattkettmann        6332\n",
      "@paulgwine           9532\n",
      "@suskostrzewa        1085\n",
      "@vboone              9537\n",
      "@vossroger          25514\n",
      "@wawinereport        4966\n",
      "@wineschach         15134\n",
      "@winewchristina         6\n",
      "@worldwineguys       1005\n",
      "dtype: int64\n"
     ]
    }
   ],
   "source": [
    "# Who are the most common wine reviewers in the dataset? Create a Series whose index is the taster_twitter_handle category from the dataset, and whose values count how many reviews each person wrote.\n",
    "reviews_written = reviews.groupby('taster_twitter_handle').size()\n",
    "\n",
    "# Check your answer\n",
    "print(reviews_written)\n"
   ]
  },
  {
   "cell_type": "markdown",
   "id": "779df443-1ee4-4513-bc5f-8b8252d04b22",
   "metadata": {},
   "source": [
    "2.\n",
    "What is the best wine I can buy for a given amount of money? Create a Series whose index is wine prices and whose values is the maximum number of points a wine costing that much was given in a review. Sort the values by price, ascending (so that 4.0 dollars is at the top and 3300.0 dollars is at the bottom)."
   ]
  },
  {
   "cell_type": "code",
   "execution_count": 8,
   "id": "46abee4b-21b3-4c74-8237-06138070e2ec",
   "metadata": {},
   "outputs": [
    {
     "name": "stdout",
     "output_type": "stream",
     "text": [
      "price\n",
      "4.0       86\n",
      "5.0       87\n",
      "6.0       88\n",
      "7.0       91\n",
      "8.0       91\n",
      "          ..\n",
      "1900.0    98\n",
      "2000.0    97\n",
      "2013.0    91\n",
      "2500.0    96\n",
      "3300.0    88\n",
      "Name: points, Length: 390, dtype: int64\n"
     ]
    }
   ],
   "source": [
    "best_rating_per_price = reviews.groupby('price').points.max().sort_index()\n",
    "\n",
    "print(best_rating_per_price)"
   ]
  },
  {
   "cell_type": "markdown",
   "id": "e48768e8-4cc2-45d5-b693-7a088c175006",
   "metadata": {},
   "source": [
    "3.\n",
    "What are the minimum and maximum prices for each variety of wine? Create a DataFrame whose index is the variety category from the dataset and whose values are the min and max values thereof.\n"
   ]
  },
  {
   "cell_type": "code",
   "execution_count": 11,
   "id": "8c24d3f3-7e8f-4b84-b48e-78eb611e1357",
   "metadata": {},
   "outputs": [
    {
     "name": "stdout",
     "output_type": "stream",
     "text": [
      "              min    max\n",
      "variety                 \n",
      "Abouriou     15.0   75.0\n",
      "Agiorgitiko  10.0   66.0\n",
      "Aglianico     6.0  180.0\n",
      "Aidani       27.0   27.0\n",
      "Airen         8.0   10.0\n",
      "...           ...    ...\n",
      "Zinfandel     5.0  100.0\n",
      "Zlahtina     13.0   16.0\n",
      "Zweigelt      9.0   70.0\n",
      "Çalkarası    19.0   19.0\n",
      "Žilavka      15.0   15.0\n",
      "\n",
      "[707 rows x 2 columns]\n"
     ]
    },
    {
     "name": "stderr",
     "output_type": "stream",
     "text": [
      "C:\\Users\\soyam\\AppData\\Local\\Temp\\ipykernel_10900\\709393836.py:1: FutureWarning: The provided callable <built-in function min> is currently using SeriesGroupBy.min. In a future version of pandas, the provided callable will be used directly. To keep current behavior pass the string \"min\" instead.\n",
      "  price_extreme = reviews.groupby('variety').price.agg([min, max])\n",
      "C:\\Users\\soyam\\AppData\\Local\\Temp\\ipykernel_10900\\709393836.py:1: FutureWarning: The provided callable <built-in function max> is currently using SeriesGroupBy.max. In a future version of pandas, the provided callable will be used directly. To keep current behavior pass the string \"max\" instead.\n",
      "  price_extreme = reviews.groupby('variety').price.agg([min, max])\n"
     ]
    }
   ],
   "source": [
    "price_extreme = reviews.groupby('variety').price.agg([min, max])\n",
    "\n",
    "print(price_extreme)"
   ]
  },
  {
   "cell_type": "markdown",
   "id": "edb30db7-58ad-4eeb-8ed4-26c05f635106",
   "metadata": {},
   "source": [
    "4.\n",
    "What are the most expensive wine varieties? Create a variable sorted_varieties containing a copy of the dataframe from the previous question where varieties are sorted in descending order based on minimum price, then on maximum price (to break ties)."
   ]
  },
  {
   "cell_type": "code",
   "execution_count": 13,
   "id": "5e757fb7-467f-439e-855c-1ce70a676aff",
   "metadata": {},
   "outputs": [
    {
     "name": "stdout",
     "output_type": "stream",
     "text": [
      "                                  min    max\n",
      "variety                                     \n",
      "Ramisco                         495.0  495.0\n",
      "Terrantez                       236.0  236.0\n",
      "Francisa                        160.0  160.0\n",
      "Rosenmuskateller                150.0  150.0\n",
      "Tinta Negra Mole                112.0  112.0\n",
      "...                               ...    ...\n",
      "Roscetto                          NaN    NaN\n",
      "Sauvignon Blanc-Sauvignon Gris    NaN    NaN\n",
      "Tempranillo-Malbec                NaN    NaN\n",
      "Vital                             NaN    NaN\n",
      "Zelen                             NaN    NaN\n",
      "\n",
      "[707 rows x 2 columns]\n"
     ]
    }
   ],
   "source": [
    "sorted_variables = price_extreme.copy().sort_values(by=['min', 'max'], ascending = False)\n",
    "print(sorted_variables)"
   ]
  },
  {
   "cell_type": "markdown",
   "id": "90c0eb3d-39fb-4ce3-a228-af184f1b699e",
   "metadata": {},
   "source": [
    "5.\n",
    "Create a Series whose index is reviewers and whose values is the average review score given out by that reviewer. Hint: you will need the taster_name and points columns."
   ]
  },
  {
   "cell_type": "markdown",
   "id": "20beaa47-c4b4-4977-a5f0-d1e1b9cb61a8",
   "metadata": {},
   "source": [
    "reviewer_mean_rating = reviews.groupby('taster_name').points.mean()\n",
    "print(reviewer_mean_rating)"
   ]
  },
  {
   "cell_type": "raw",
   "id": "c14784a5-97a8-4fe3-ac94-da0bcde2670d",
   "metadata": {},
   "source": [
    "6.¶\n",
    "What combination of countries and varieties are most common? Create a Series whose index is a MultiIndexof {country, variety} pairs. For example, a pinot noir produced in the US should map to {\"US\", \"Pinot Noir\"}. Sort the values in the Series in descending order based on wine count."
   ]
  },
  {
   "cell_type": "code",
   "execution_count": 17,
   "id": "c2a55d27-aa03-4c38-a457-457f679f389a",
   "metadata": {},
   "outputs": [
    {
     "name": "stdout",
     "output_type": "stream",
     "text": [
      "country    variety                 \n",
      "US         Pinot Noir                  9885\n",
      "           Cabernet Sauvignon          7315\n",
      "           Chardonnay                  6801\n",
      "France     Bordeaux-style Red Blend    4725\n",
      "Italy      Red Blend                   3624\n",
      "                                       ... \n",
      "Argentina  Cabernet-Malbec                1\n",
      "US         Tinta Madeira                  1\n",
      "Italy      Centesimino                    1\n",
      "           Catalanesca                    1\n",
      "           Carmenère                      1\n",
      "Length: 1612, dtype: int64\n"
     ]
    }
   ],
   "source": [
    "country_variety_counts = reviews.groupby(['country', 'variety']).size().sort_values(ascending = False)\n",
    "print(country_variety_counts)"
   ]
  },
  {
   "cell_type": "markdown",
   "id": "b26f9d17-7603-4e3d-ad89-14c3ed34c3a0",
   "metadata": {},
   "source": [
    "7.\n",
    "region_1 and region_2 are pretty uninformative names for locale columns in the dataset. Create a copy of reviews with these columns renamed to region and locale, respectively."
   ]
  },
  {
   "cell_type": "code",
   "execution_count": 1,
   "id": "111171a4-3717-476e-b9a6-32e29e5a2753",
   "metadata": {},
   "outputs": [
    {
     "ename": "NameError",
     "evalue": "name 'reviews' is not defined",
     "output_type": "error",
     "traceback": [
      "\u001b[1;31m---------------------------------------------------------------------------\u001b[0m",
      "\u001b[1;31mNameError\u001b[0m                                 Traceback (most recent call last)",
      "Cell \u001b[1;32mIn[1], line 1\u001b[0m\n\u001b[1;32m----> 1\u001b[0m renamed \u001b[38;5;241m=\u001b[39m reviews\u001b[38;5;241m.\u001b[39mrename(columns \u001b[38;5;241m=\u001b[39m {\u001b[38;5;124m'\u001b[39m\u001b[38;5;124mregion_1\u001b[39m\u001b[38;5;124m'\u001b[39m: \u001b[38;5;124m'\u001b[39m\u001b[38;5;124mregion\u001b[39m\u001b[38;5;124m'\u001b[39m, \u001b[38;5;124m'\u001b[39m\u001b[38;5;124mregion_2\u001b[39m\u001b[38;5;124m'\u001b[39m: \u001b[38;5;124m'\u001b[39m\u001b[38;5;124mlocale\u001b[39m\u001b[38;5;124m'\u001b[39m})\n\u001b[0;32m      3\u001b[0m \u001b[38;5;28mprint\u001b[39m(renamed)\n",
      "\u001b[1;31mNameError\u001b[0m: name 'reviews' is not defined"
     ]
    }
   ],
   "source": [
    "renamed = reviews.rename(columns = {'region_1': 'region', 'region_2': 'locale'})\n",
    "\n",
    "print(renamed)"
   ]
  },
  {
   "cell_type": "code",
   "execution_count": null,
   "id": "2169a064-7ffe-45f0-8724-91c3909194ab",
   "metadata": {},
   "outputs": [],
   "source": []
  }
 ],
 "metadata": {
  "kernelspec": {
   "display_name": "Python 3 (ipykernel)",
   "language": "python",
   "name": "python3"
  },
  "language_info": {
   "codemirror_mode": {
    "name": "ipython",
    "version": 3
   },
   "file_extension": ".py",
   "mimetype": "text/x-python",
   "name": "python",
   "nbconvert_exporter": "python",
   "pygments_lexer": "ipython3",
   "version": "3.13.5"
  }
 },
 "nbformat": 4,
 "nbformat_minor": 5
}
