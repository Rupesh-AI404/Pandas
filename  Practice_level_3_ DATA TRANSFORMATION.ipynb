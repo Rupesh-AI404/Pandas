{
 "cells": [
  {
   "cell_type": "code",
   "execution_count": 5,
   "id": "c0be08c7-9bcf-4521-9264-a95d33c8656d",
   "metadata": {},
   "outputs": [
    {
     "name": "stdout",
     "output_type": "stream",
     "text": [
      "SALES DATA:\n",
      "   sales_id salesperson region product  amount month\n",
      "0         1       Alice  North  Laptop    1200   Jan\n",
      "1         2         Bob  South  Tablet     500   Jan\n",
      "2         3       Alice  North   Phone     800   Feb\n",
      "3         4     Charlie   East  Laptop    1100   Feb\n",
      "4         5         Bob  South  Tablet     450   Mar\n",
      "5         6       Alice  North   Phone     750   Mar\n",
      "6         7     Charlie   East  Laptop    1300   Apr\n",
      "7         8         Bob  South  Tablet     480   Apr\n",
      "8         9       Alice  North   Phone     820   May\n",
      "9        10     Charlie   East  Laptop    1150   May\n"
     ]
    }
   ],
   "source": [
    "import pandas as pd\n",
    "import numpy as np\n",
    "\n",
    "# Sales dataset for practice\n",
    "sales_data = {\n",
    "    'sales_id': [1, 2, 3, 4, 5, 6, 7, 8, 9, 10],\n",
    "    'salesperson': ['Alice', 'Bob', 'Alice', 'Charlie', 'Bob', 'Alice', 'Charlie', 'Bob', 'Alice', 'Charlie'],\n",
    "    'region': ['North', 'South', 'North', 'East', 'South', 'North', 'East', 'South', 'North', 'East'],\n",
    "    'product': ['Laptop', 'Tablet', 'Phone', 'Laptop', 'Tablet', 'Phone', 'Laptop', 'Tablet', 'Phone', 'Laptop'],\n",
    "    'amount': [1200, 500, 800, 1100, 450, 750, 1300, 480, 820, 1150],\n",
    "    'month': ['Jan', 'Jan', 'Feb', 'Feb', 'Mar', 'Mar', 'Apr', 'Apr', 'May', 'May']\n",
    "}\n",
    "\n",
    "df = pd.DataFrame(sales_data)\n",
    "\n",
    "# Department info dataset (for merging practice)\n",
    "dept_data = {\n",
    "    'salesperson': ['Alice', 'Bob', 'Charlie'],\n",
    "    'department': ['Corporate', 'Retail', 'Corporate'],\n",
    "    'hire_year': [2020, 2019, 2021]\n",
    "}\n",
    "\n",
    "dept_df = pd.DataFrame(dept_data)\n",
    "\n",
    "print(\"SALES DATA:\")\n",
    "print(df)"
   ]
  },
  {
   "cell_type": "markdown",
   "id": "9e8bf2e3-1e60-47a9-8f2c-0bebabf8813c",
   "metadata": {},
   "source": [
    "#LEVEL 3 PRACTICE QUESTIONS\n",
    "Set 1: GroupBy Mastery\n",
    "Q1: What's the total sales amount by each salesperson?\n",
    "Q2: What's the average sale amount by region?\n",
    "Q3: Show the maximum sale amount for each product type\n",
    "\n",
    "Set 2: Merging & Combining\n",
    "Q4: Merge sales data with department info for each salesperson\n",
    "Q5: Add a column showing years of experience (current year - hire_year)\n",
    "\n",
    "Set 3: Pivot Tables & Analysis\n",
    "Q6: Create a pivot table showing total sales by region and month\n",
    "Q7: Make a pivot table of average sales by department and product\n",
    "\n",
    "Set 4: Advanced Transformations\n",
    "Q8: Create a new column 'sale_size': 'Large' if amount > 1000, else 'Small'\n",
    "Q9: Sort the data by region (A-Z) then by amount (high to low)\n",
    "Q10: Count how many sales each product has"
   ]
  },
  {
   "cell_type": "code",
   "execution_count": 11,
   "id": "6acd20b6-e821-49c2-907b-f0a0d45d0ce5",
   "metadata": {},
   "outputs": [
    {
     "data": {
      "text/plain": [
       "salesperson\n",
       "Alice      3570\n",
       "Bob        1430\n",
       "Charlie    3550\n",
       "Name: amount, dtype: int64"
      ]
     },
     "execution_count": 11,
     "metadata": {},
     "output_type": "execute_result"
    }
   ],
   "source": [
    "#q1\n",
    "total_sales = df.groupby('salesperson')['amount'].sum()\n",
    "total_sales"
   ]
  },
  {
   "cell_type": "code",
   "execution_count": 13,
   "id": "3fdab1b5-f881-4f8c-928d-a89cea6a9eb4",
   "metadata": {},
   "outputs": [
    {
     "data": {
      "text/plain": [
       "region\n",
       "East     1183.333333\n",
       "North     892.500000\n",
       "South     476.666667\n",
       "Name: amount, dtype: float64"
      ]
     },
     "execution_count": 13,
     "metadata": {},
     "output_type": "execute_result"
    }
   ],
   "source": [
    "#2\n",
    "avg_sales = df.groupby('region')['amount'].mean()\n",
    "avg_sales"
   ]
  },
  {
   "cell_type": "code",
   "execution_count": 15,
   "id": "6b96a577-61e6-4bbd-82d6-2a9aaa9f03be",
   "metadata": {},
   "outputs": [
    {
     "data": {
      "text/plain": [
       "product\n",
       "Laptop    1300\n",
       "Phone      820\n",
       "Tablet     500\n",
       "Name: amount, dtype: int64"
      ]
     },
     "execution_count": 15,
     "metadata": {},
     "output_type": "execute_result"
    }
   ],
   "source": [
    "#3 Show the maximum sale amount for each product type\n",
    "max_sale = df.groupby('product')['amount'].max()\n",
    "max_sale"
   ]
  },
  {
   "cell_type": "code",
   "execution_count": null,
   "id": "d49c3c26-e4ce-4b3d-bd03-8ea80ea7b293",
   "metadata": {},
   "outputs": [],
   "source": []
  }
 ],
 "metadata": {
  "kernelspec": {
   "display_name": "Python 3 (ipykernel)",
   "language": "python",
   "name": "python3"
  },
  "language_info": {
   "codemirror_mode": {
    "name": "ipython",
    "version": 3
   },
   "file_extension": ".py",
   "mimetype": "text/x-python",
   "name": "python",
   "nbconvert_exporter": "python",
   "pygments_lexer": "ipython3",
   "version": "3.13.5"
  }
 },
 "nbformat": 4,
 "nbformat_minor": 5
}
