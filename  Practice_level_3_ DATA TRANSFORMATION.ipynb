{
 "cells": [
  {
   "cell_type": "code",
   "execution_count": 5,
   "id": "c0be08c7-9bcf-4521-9264-a95d33c8656d",
   "metadata": {},
   "outputs": [
    {
     "name": "stdout",
     "output_type": "stream",
     "text": [
      "SALES DATA:\n",
      "   sales_id salesperson region product  amount month\n",
      "0         1       Alice  North  Laptop    1200   Jan\n",
      "1         2         Bob  South  Tablet     500   Jan\n",
      "2         3       Alice  North   Phone     800   Feb\n",
      "3         4     Charlie   East  Laptop    1100   Feb\n",
      "4         5         Bob  South  Tablet     450   Mar\n",
      "5         6       Alice  North   Phone     750   Mar\n",
      "6         7     Charlie   East  Laptop    1300   Apr\n",
      "7         8         Bob  South  Tablet     480   Apr\n",
      "8         9       Alice  North   Phone     820   May\n",
      "9        10     Charlie   East  Laptop    1150   May\n"
     ]
    }
   ],
   "source": [
    "import pandas as pd\n",
    "import numpy as np\n",
    "\n",
    "# Sales dataset for practice\n",
    "sales_data = {\n",
    "    'sales_id': [1, 2, 3, 4, 5, 6, 7, 8, 9, 10],\n",
    "    'salesperson': ['Alice', 'Bob', 'Alice', 'Charlie', 'Bob', 'Alice', 'Charlie', 'Bob', 'Alice', 'Charlie'],\n",
    "    'region': ['North', 'South', 'North', 'East', 'South', 'North', 'East', 'South', 'North', 'East'],\n",
    "    'product': ['Laptop', 'Tablet', 'Phone', 'Laptop', 'Tablet', 'Phone', 'Laptop', 'Tablet', 'Phone', 'Laptop'],\n",
    "    'amount': [1200, 500, 800, 1100, 450, 750, 1300, 480, 820, 1150],\n",
    "    'month': ['Jan', 'Jan', 'Feb', 'Feb', 'Mar', 'Mar', 'Apr', 'Apr', 'May', 'May']\n",
    "}\n",
    "\n",
    "df = pd.DataFrame(sales_data)\n",
    "\n",
    "# Department info dataset (for merging practice)\n",
    "dept_data = {\n",
    "    'salesperson': ['Alice', 'Bob', 'Charlie'],\n",
    "    'department': ['Corporate', 'Retail', 'Corporate'],\n",
    "    'hire_year': [2020, 2019, 2021]\n",
    "}\n",
    "\n",
    "dept_df = pd.DataFrame(dept_data)\n",
    "\n",
    "print(\"SALES DATA:\")\n",
    "print(df)"
   ]
  },
  {
   "cell_type": "markdown",
   "id": "9e8bf2e3-1e60-47a9-8f2c-0bebabf8813c",
   "metadata": {},
   "source": [
    "#LEVEL 3 PRACTICE QUESTIONS\n",
    "Set 1: GroupBy Mastery\n",
    "Q1: What's the total sales amount by each salesperson?\n",
    "Q2: What's the average sale amount by region?\n",
    "Q3: Show the maximum sale amount for each product type\n",
    "\n",
    "Set 2: Merging & Combining\n",
    "Q4: Merge sales data with department info for each salesperson\n",
    "Q5: Add a column showing years of experience (current year - hire_year)\n",
    "\n",
    "Set 3: Pivot Tables & Analysis\n",
    "Q6: Create a pivot table showing total sales by region and month\n",
    "Q7: Make a pivot table of average sales by department and product\n",
    "\n",
    "Set 4: Advanced Transformations\n",
    "Q8: Create a new column 'sale_size': 'Large' if amount > 1000, else 'Small'\n",
    "Q9: Sort the data by region (A-Z) then by amount (high to low)\n",
    "Q10: Count how many sales each product has"
   ]
  },
  {
   "cell_type": "code",
   "execution_count": 11,
   "id": "6acd20b6-e821-49c2-907b-f0a0d45d0ce5",
   "metadata": {},
   "outputs": [
    {
     "data": {
      "text/plain": [
       "salesperson\n",
       "Alice      3570\n",
       "Bob        1430\n",
       "Charlie    3550\n",
       "Name: amount, dtype: int64"
      ]
     },
     "execution_count": 11,
     "metadata": {},
     "output_type": "execute_result"
    }
   ],
   "source": [
    "#q1\n",
    "total_sales = df.groupby('salesperson')['amount'].sum()\n",
    "total_sales"
   ]
  },
  {
   "cell_type": "code",
   "execution_count": 13,
   "id": "3fdab1b5-f881-4f8c-928d-a89cea6a9eb4",
   "metadata": {},
   "outputs": [
    {
     "data": {
      "text/plain": [
       "region\n",
       "East     1183.333333\n",
       "North     892.500000\n",
       "South     476.666667\n",
       "Name: amount, dtype: float64"
      ]
     },
     "execution_count": 13,
     "metadata": {},
     "output_type": "execute_result"
    }
   ],
   "source": [
    "#2\n",
    "avg_sales = df.groupby('region')['amount'].mean()\n",
    "avg_sales"
   ]
  },
  {
   "cell_type": "code",
   "execution_count": 15,
   "id": "6b96a577-61e6-4bbd-82d6-2a9aaa9f03be",
   "metadata": {},
   "outputs": [
    {
     "data": {
      "text/plain": [
       "product\n",
       "Laptop    1300\n",
       "Phone      820\n",
       "Tablet     500\n",
       "Name: amount, dtype: int64"
      ]
     },
     "execution_count": 15,
     "metadata": {},
     "output_type": "execute_result"
    }
   ],
   "source": [
    "#3 Show the maximum sale amount for each product type\n",
    "max_sale = df.groupby('product')['amount'].max()\n",
    "max_sale"
   ]
  },
  {
   "cell_type": "code",
   "execution_count": 27,
   "id": "d49c3c26-e4ce-4b3d-bd03-8ea80ea7b293",
   "metadata": {
    "scrolled": true
   },
   "outputs": [
    {
     "data": {
      "text/html": [
       "<div>\n",
       "<style scoped>\n",
       "    .dataframe tbody tr th:only-of-type {\n",
       "        vertical-align: middle;\n",
       "    }\n",
       "\n",
       "    .dataframe tbody tr th {\n",
       "        vertical-align: top;\n",
       "    }\n",
       "\n",
       "    .dataframe thead th {\n",
       "        text-align: right;\n",
       "    }\n",
       "</style>\n",
       "<table border=\"1\" class=\"dataframe\">\n",
       "  <thead>\n",
       "    <tr style=\"text-align: right;\">\n",
       "      <th></th>\n",
       "      <th>sales_id</th>\n",
       "      <th>salesperson</th>\n",
       "      <th>region</th>\n",
       "      <th>product</th>\n",
       "      <th>amount</th>\n",
       "      <th>month</th>\n",
       "      <th>department</th>\n",
       "      <th>hire_year</th>\n",
       "    </tr>\n",
       "  </thead>\n",
       "  <tbody>\n",
       "    <tr>\n",
       "      <th>0</th>\n",
       "      <td>1</td>\n",
       "      <td>Alice</td>\n",
       "      <td>North</td>\n",
       "      <td>Laptop</td>\n",
       "      <td>1200</td>\n",
       "      <td>Jan</td>\n",
       "      <td>Corporate</td>\n",
       "      <td>2020</td>\n",
       "    </tr>\n",
       "    <tr>\n",
       "      <th>1</th>\n",
       "      <td>2</td>\n",
       "      <td>Bob</td>\n",
       "      <td>South</td>\n",
       "      <td>Tablet</td>\n",
       "      <td>500</td>\n",
       "      <td>Jan</td>\n",
       "      <td>Retail</td>\n",
       "      <td>2019</td>\n",
       "    </tr>\n",
       "    <tr>\n",
       "      <th>2</th>\n",
       "      <td>3</td>\n",
       "      <td>Alice</td>\n",
       "      <td>North</td>\n",
       "      <td>Phone</td>\n",
       "      <td>800</td>\n",
       "      <td>Feb</td>\n",
       "      <td>Corporate</td>\n",
       "      <td>2020</td>\n",
       "    </tr>\n",
       "    <tr>\n",
       "      <th>3</th>\n",
       "      <td>4</td>\n",
       "      <td>Charlie</td>\n",
       "      <td>East</td>\n",
       "      <td>Laptop</td>\n",
       "      <td>1100</td>\n",
       "      <td>Feb</td>\n",
       "      <td>Corporate</td>\n",
       "      <td>2021</td>\n",
       "    </tr>\n",
       "    <tr>\n",
       "      <th>4</th>\n",
       "      <td>5</td>\n",
       "      <td>Bob</td>\n",
       "      <td>South</td>\n",
       "      <td>Tablet</td>\n",
       "      <td>450</td>\n",
       "      <td>Mar</td>\n",
       "      <td>Retail</td>\n",
       "      <td>2019</td>\n",
       "    </tr>\n",
       "    <tr>\n",
       "      <th>5</th>\n",
       "      <td>6</td>\n",
       "      <td>Alice</td>\n",
       "      <td>North</td>\n",
       "      <td>Phone</td>\n",
       "      <td>750</td>\n",
       "      <td>Mar</td>\n",
       "      <td>Corporate</td>\n",
       "      <td>2020</td>\n",
       "    </tr>\n",
       "    <tr>\n",
       "      <th>6</th>\n",
       "      <td>7</td>\n",
       "      <td>Charlie</td>\n",
       "      <td>East</td>\n",
       "      <td>Laptop</td>\n",
       "      <td>1300</td>\n",
       "      <td>Apr</td>\n",
       "      <td>Corporate</td>\n",
       "      <td>2021</td>\n",
       "    </tr>\n",
       "    <tr>\n",
       "      <th>7</th>\n",
       "      <td>8</td>\n",
       "      <td>Bob</td>\n",
       "      <td>South</td>\n",
       "      <td>Tablet</td>\n",
       "      <td>480</td>\n",
       "      <td>Apr</td>\n",
       "      <td>Retail</td>\n",
       "      <td>2019</td>\n",
       "    </tr>\n",
       "    <tr>\n",
       "      <th>8</th>\n",
       "      <td>9</td>\n",
       "      <td>Alice</td>\n",
       "      <td>North</td>\n",
       "      <td>Phone</td>\n",
       "      <td>820</td>\n",
       "      <td>May</td>\n",
       "      <td>Corporate</td>\n",
       "      <td>2020</td>\n",
       "    </tr>\n",
       "    <tr>\n",
       "      <th>9</th>\n",
       "      <td>10</td>\n",
       "      <td>Charlie</td>\n",
       "      <td>East</td>\n",
       "      <td>Laptop</td>\n",
       "      <td>1150</td>\n",
       "      <td>May</td>\n",
       "      <td>Corporate</td>\n",
       "      <td>2021</td>\n",
       "    </tr>\n",
       "  </tbody>\n",
       "</table>\n",
       "</div>"
      ],
      "text/plain": [
       "   sales_id salesperson region product  amount month department  hire_year\n",
       "0         1       Alice  North  Laptop    1200   Jan  Corporate       2020\n",
       "1         2         Bob  South  Tablet     500   Jan     Retail       2019\n",
       "2         3       Alice  North   Phone     800   Feb  Corporate       2020\n",
       "3         4     Charlie   East  Laptop    1100   Feb  Corporate       2021\n",
       "4         5         Bob  South  Tablet     450   Mar     Retail       2019\n",
       "5         6       Alice  North   Phone     750   Mar  Corporate       2020\n",
       "6         7     Charlie   East  Laptop    1300   Apr  Corporate       2021\n",
       "7         8         Bob  South  Tablet     480   Apr     Retail       2019\n",
       "8         9       Alice  North   Phone     820   May  Corporate       2020\n",
       "9        10     Charlie   East  Laptop    1150   May  Corporate       2021"
      ]
     },
     "execution_count": 27,
     "metadata": {},
     "output_type": "execute_result"
    }
   ],
   "source": [
    "#4 Merge sales data with department info for each salesperson\n",
    "\n",
    "combined = pd.merge(df, dept_df, on=\"salesperson\")\n",
    "combined"
   ]
  },
  {
   "cell_type": "code",
   "execution_count": null,
   "id": "8ed1994c-fe3c-4d35-86d7-384366f4eae6",
   "metadata": {},
   "outputs": [],
   "source": [
    "# Q5: Add a column showing years of experience (current year - hire_year)\n",
    "\n",
    "exp_years = "
   ]
  }
 ],
 "metadata": {
  "kernelspec": {
   "display_name": "Python 3 (ipykernel)",
   "language": "python",
   "name": "python3"
  },
  "language_info": {
   "codemirror_mode": {
    "name": "ipython",
    "version": 3
   },
   "file_extension": ".py",
   "mimetype": "text/x-python",
   "name": "python",
   "nbconvert_exporter": "python",
   "pygments_lexer": "ipython3",
   "version": "3.13.5"
  }
 },
 "nbformat": 4,
 "nbformat_minor": 5
}
