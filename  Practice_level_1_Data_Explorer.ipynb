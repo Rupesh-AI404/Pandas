{
 "cells": [
  {
   "cell_type": "code",
   "execution_count": 6,
   "id": "9e6d12f8-9436-441a-8974-2d55ae5bf1ae",
   "metadata": {},
   "outputs": [
    {
     "data": {
      "text/plain": [
       "{'emp_id': [101, 102, 103, 104, 105, 106, 107, 108],\n",
       " 'name': ['John', 'Sarah', 'Mike', 'Lisa', 'Tom', 'Emma', 'Alex', 'Rachel'],\n",
       " 'department': ['IT',\n",
       "  'HR',\n",
       "  'IT',\n",
       "  'Finance',\n",
       "  'Marketing',\n",
       "  'IT',\n",
       "  'HR',\n",
       "  'Finance'],\n",
       " 'salary': [75000, 65000, 80000, 90000, 60000, 85000, 70000, 95000],\n",
       " 'experience_yrs': [3, 2, 5, 8, 1, 6, 2, 10],\n",
       " 'join_date': ['2020-01-15',\n",
       "  '2021-03-20',\n",
       "  '2018-11-10',\n",
       "  '2015-06-01',\n",
       "  '2022-08-15',\n",
       "  '2017-09-05',\n",
       "  '2021-07-30',\n",
       "  '2013-12-10']}"
      ]
     },
     "execution_count": 6,
     "metadata": {},
     "output_type": "execute_result"
    }
   ],
   "source": [
    "import pandas as pd\n",
    "\n",
    "employee_data = {\n",
    "    'emp_id': [101, 102, 103, 104, 105, 106, 107, 108],\n",
    "    'name': ['John', 'Sarah', 'Mike', 'Lisa', 'Tom', 'Emma', 'Alex', 'Rachel'],\n",
    "    'department': ['IT', 'HR', 'IT', 'Finance', 'Marketing', 'IT', 'HR', 'Finance'],\n",
    "    'salary': [75000, 65000, 80000, 90000, 60000, 85000, 70000, 95000],\n",
    "    'experience_yrs': [3, 2, 5, 8, 1, 6, 2, 10],\n",
    "    'join_date': ['2020-01-15', '2021-03-20', '2018-11-10', '2015-06-01', \n",
    "                  '2022-08-15', '2017-09-05', '2021-07-30', '2013-12-10']\n",
    "}\n",
    "\n",
    "employees = pd.DataFrame(employee_data)\n",
    "employee_data"
   ]
  },
  {
   "cell_type": "markdown",
   "id": "ae6f637a-536c-4346-a0bd-ff8d698909d5",
   "metadata": {},
   "source": [
    "🔥 Question Set 1: Basic Exploration\n",
    "Q1: Show me the first 3 employees in the dataset.\n",
    "\n",
    "Q2: Who are the last 2 employees that joined the company?\n",
    "\n",
    "Q3: Pick 2 random employees from the dataset to review.\n",
    "\n",
    "Q4: How many employees and features does this dataset have?\n",
    "\n",
    "Q5: What are the names of all the columns in this dataset?"
   ]
  },
  {
   "cell_type": "code",
   "execution_count": 11,
   "id": "da56ba5e-79d4-4d7c-9551-612d049d3c6f",
   "metadata": {},
   "outputs": [
    {
     "name": "stdout",
     "output_type": "stream",
     "text": [
      "   emp_id   name department  salary  experience_yrs   join_date\n",
      "0     101   John         IT   75000               3  2020-01-15\n",
      "1     102  Sarah         HR   65000               2  2021-03-20\n",
      "2     103   Mike         IT   80000               5  2018-11-10\n"
     ]
    }
   ],
   "source": [
    "# Correct answer:\n",
    "first_three = employees.head(3)\n",
    "print(first_three)"
   ]
  },
  {
   "cell_type": "code",
   "execution_count": 13,
   "id": "24d382cd-dfef-4b05-9891-edfeb276fcff",
   "metadata": {},
   "outputs": [
    {
     "name": "stdout",
     "output_type": "stream",
     "text": [
      "   emp_id    name department  salary  experience_yrs   join_date\n",
      "6     107    Alex         HR   70000               2  2021-07-30\n",
      "7     108  Rachel    Finance   95000              10  2013-12-10\n"
     ]
    }
   ],
   "source": [
    "last_two = employees.tail(2)\n",
    "print(last_two)"
   ]
  },
  {
   "cell_type": "code",
   "execution_count": 14,
   "id": "2d1a45ac-4d82-4472-9300-d516cbb0a270",
   "metadata": {},
   "outputs": [
    {
     "name": "stdout",
     "output_type": "stream",
     "text": [
      "   emp_id  name department  salary  experience_yrs   join_date\n",
      "3     104  Lisa    Finance   90000               8  2015-06-01\n",
      "4     105   Tom  Marketing   60000               1  2022-08-15\n"
     ]
    }
   ],
   "source": [
    "random_two = employees.sample(2)\n",
    "print(random_two)"
   ]
  },
  {
   "cell_type": "code",
   "execution_count": 16,
   "id": "382e9e4a-c652-4cea-8ee7-51946887dc35",
   "metadata": {},
   "outputs": [
    {
     "name": "stdout",
     "output_type": "stream",
     "text": [
      "<class 'pandas.core.frame.DataFrame'>\n",
      "RangeIndex: 8 entries, 0 to 7\n",
      "Data columns (total 6 columns):\n",
      " #   Column          Non-Null Count  Dtype \n",
      "---  ------          --------------  ----- \n",
      " 0   emp_id          8 non-null      int64 \n",
      " 1   name            8 non-null      object\n",
      " 2   department      8 non-null      object\n",
      " 3   salary          8 non-null      int64 \n",
      " 4   experience_yrs  8 non-null      int64 \n",
      " 5   join_date       8 non-null      object\n",
      "dtypes: int64(3), object(3)\n",
      "memory usage: 516.0+ bytes\n",
      "None\n"
     ]
    }
   ],
   "source": [
    "count_no = employees.info()\n",
    "print(count_no)"
   ]
  },
  {
   "cell_type": "code",
   "execution_count": 28,
   "id": "7aa29f84-b7e9-4215-bdf2-7e2856a70338",
   "metadata": {},
   "outputs": [
    {
     "name": "stdout",
     "output_type": "stream",
     "text": [
      "Index(['emp_id', 'name', 'department', 'salary', 'experience_yrs',\n",
      "       'join_date'],\n",
      "      dtype='object')\n"
     ]
    }
   ],
   "source": [
    "dataset_size = employees.columns\n",
    "\n",
    "print(dataset_size)"
   ]
  },
  {
   "cell_type": "code",
   "execution_count": null,
   "id": "5f9a42c0-1826-40b1-bb69-8e32d9c5daab",
   "metadata": {},
   "outputs": [],
   "source": []
  }
 ],
 "metadata": {
  "kernelspec": {
   "display_name": "Python 3 (ipykernel)",
   "language": "python",
   "name": "python3"
  },
  "language_info": {
   "codemirror_mode": {
    "name": "ipython",
    "version": 3
   },
   "file_extension": ".py",
   "mimetype": "text/x-python",
   "name": "python",
   "nbconvert_exporter": "python",
   "pygments_lexer": "ipython3",
   "version": "3.13.5"
  }
 },
 "nbformat": 4,
 "nbformat_minor": 5
}
